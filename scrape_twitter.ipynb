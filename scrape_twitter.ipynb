{
  "nbformat": 4,
  "nbformat_minor": 0,
  "metadata": {
    "colab": {
      "name": "scrape_twitter.ipynb",
      "provenance": [],
      "authorship_tag": "ABX9TyNJEft8VJCr/y6+MDClcZpC",
      "include_colab_link": true
    },
    "kernelspec": {
      "name": "python3",
      "display_name": "Python 3"
    },
    "language_info": {
      "name": "python"
    }
  },
  "cells": [
    {
      "cell_type": "markdown",
      "metadata": {
        "id": "view-in-github",
        "colab_type": "text"
      },
      "source": [
        "<a href=\"https://colab.research.google.com/github/biamuniz/trabalhofinal_osint/blob/main/scrape_twitter.ipynb\" target=\"_parent\"><img src=\"https://colab.research.google.com/assets/colab-badge.svg\" alt=\"Open In Colab\"/></a>"
      ]
    },
    {
      "cell_type": "markdown",
      "metadata": {
        "id": "REskrOH12pBM"
      },
      "source": [
        "# <center> **Código para baixar tweets com uma query, usando snscrape e pandas**</center>"
      ]
    },
    {
      "cell_type": "code",
      "metadata": {
        "id": "bEl4Me2eNDWR"
      },
      "source": [
        "# Instalando e importando bibliotecas\n",
        "!pip3 install snscrape\n",
        "import snscrape.modules.twitter as sntwitter\n",
        "import pandas as pd\n",
        "\n",
        "\n",
        "# Criando uma lista para coletar os tweets com a query\n",
        "dia_1 = []\n",
        "# Pegando os tweets\n",
        "for i,tweet in enumerate(sntwitter.TwitterSearchScraper('oxigênio manaus until:2021-01-02 since:2021-01-01 -filter:replies').get_items()):\n",
        "    if i>200000:\n",
        "        break\n",
        "    dia_1.append([tweet.id, tweet.date, tweet.content, tweet.username])\n",
        "df_1 = pd.DataFrame(dia_1)\n",
        "df_1.to_csv(\"tweets_dia_01.csv\", sep='\\t', encoding='utf-8', index=False)"
      ],
      "execution_count": null,
      "outputs": []
    },
    {
      "cell_type": "markdown",
      "metadata": {
        "id": "33d1RoZQ2gEh"
      },
      "source": [
        "Repeti o processo para todos os dias de janeiro, criando e salvando um dataframe por dia"
      ]
    }
  ]
}