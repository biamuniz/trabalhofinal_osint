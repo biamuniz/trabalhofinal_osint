{
  "nbformat": 4,
  "nbformat_minor": 0,
  "metadata": {
    "colab": {
      "name": "osint_projetofinal.ipynb",
      "provenance": [],
      "collapsed_sections": [],
      "include_colab_link": true
    },
    "kernelspec": {
      "name": "python3",
      "display_name": "Python 3"
    }
  },
  "cells": [
    {
      "cell_type": "markdown",
      "metadata": {
        "id": "view-in-github",
        "colab_type": "text"
      },
      "source": [
        "<a href=\"https://colab.research.google.com/github/biamuniz/trabalhofinal_osint/blob/main/osint_projetofinal.ipynb\" target=\"_parent\"><img src=\"https://colab.research.google.com/assets/colab-badge.svg\" alt=\"Open In Colab\"/></a>"
      ]
    },
    {
      "cell_type": "markdown",
      "metadata": {
        "id": "lzbMcNiP4nkK"
      },
      "source": [
        "# **Recriando a crise de oxigênio em Manaus através de tweets**\n",
        "Projeto final apresentado para a disciplina de Open Source Intelligence do Master em Jornalismo de Dados, Automação e Data Storytelling do Insper\n",
        "\n",
        "**Grupo:** Bianca Muniz, Meyrele Torres, Ricardo Grinbaum\n",
        "\n",
        "**Descrição do projeto**: Nosso projeto final pretende contar a progressão da crise de oxigênio em Manaus, no início do ano de 2021, através de tweets. Para isso, serão utilizadas ferramentas de OSINT como busca avançada nas redes sociais para criar uma timeline de tweets.\n",
        "\n",
        "\n",
        "\n"
      ]
    },
    {
      "cell_type": "markdown",
      "metadata": {
        "id": "9Dfvw3V5BmIf"
      },
      "source": [
        "## **Antes de começar:**\n",
        "\n",
        "**1.Definir perguntas:**\n",
        "*   Qual o primeiro tweet de profissional da saúde relatando falta de oxigênio?\n",
        "*   Primeiro tweet pedindo ajuda?\n",
        "* Tweets com mais engajamento\n",
        "\n",
        "**2.Dados utilizados**\n",
        "*   "
      ]
    },
    {
      "cell_type": "markdown",
      "metadata": {
        "id": "No9Q28IN8Vn0"
      },
      "source": [
        "## **Passo 1: Twitter**\n",
        "### Definições:\n",
        "*   Período: \n",
        "*   Idioma: português\n",
        "* Somente tweets SEM replies\n",
        "* Apenas tweets COM links\n"
      ]
    },
    {
      "cell_type": "markdown",
      "metadata": {
        "id": "-sTtlV_C_WqX"
      },
      "source": [
        "###Como pesquisar?\n",
        "\n",
        "Busca avançada no tt: "
      ]
    },
    {
      "cell_type": "markdown",
      "metadata": {
        "id": "tBY8wf6h91G_"
      },
      "source": [
        "###Como coletar?\n",
        "Python, usando as bibliotecas `tweepy`, `numpy` e `pandas`"
      ]
    }
  ]
}