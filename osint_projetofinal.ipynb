{
  "nbformat": 4,
  "nbformat_minor": 0,
  "metadata": {
    "colab": {
      "name": "osint_projetofinal.ipynb",
      "provenance": [],
      "collapsed_sections": [],
      "include_colab_link": true
    },
    "kernelspec": {
      "name": "python3",
      "display_name": "Python 3"
    }
  },
  "cells": [
    {
      "cell_type": "markdown",
      "metadata": {
        "id": "view-in-github",
        "colab_type": "text"
      },
      "source": [
        "<a href=\"https://colab.research.google.com/github/biamuniz/trabalhofinal_osint/blob/main/osint_projetofinal.ipynb\" target=\"_parent\"><img src=\"https://colab.research.google.com/assets/colab-badge.svg\" alt=\"Open In Colab\"/></a>"
      ]
    },
    {
      "cell_type": "markdown",
      "metadata": {
        "id": "lzbMcNiP4nkK"
      },
      "source": [
        "# **Recriando a crise de oxigênio em Manaus através de tweets**\n",
        "Projeto final apresentado para a disciplina de Open Source Intelligence do Master em Jornalismo de Dados, Automação e Data Storytelling do Insper\n",
        "\n",
        "**Grupo:** Bianca Muniz, Meyrele Torres, Ricardo Grinbaum\n",
        "\n",
        "**Descrição do projeto**: Nosso projeto final pretende contar a progressão da crise de oxigênio em Manaus, no início do ano de 2021, através de tweets. Para isso, serão utilizadas ferramentas de OSINT como busca avançada nas redes sociais para criar uma timeline de tweets.\n",
        "\n",
        "\n",
        "\n"
      ]
    },
    {
      "cell_type": "markdown",
      "metadata": {
        "id": "9Dfvw3V5BmIf"
      },
      "source": [
        "## **Antes de começar:**\n",
        "\n",
        "**1.Definir perguntas:**\n",
        "*   Qual o primeiro tweet de profissional da saúde relatando falta de oxigênio?\n",
        "*   Primeiro tweet pedindo ajuda?\n",
        "* Tweets com mais engajamento\n",
        "\n",
        "**2.Dados utilizados**\n",
        "*   Lista de músicas obtidas a partir da coleta de tweets com a string \"*aqui está um"
      ]
    },
    {
      "cell_type": "markdown",
      "metadata": {
        "id": "No9Q28IN8Vn0"
      },
      "source": [
        "## **Passo 1: Twitter**\n",
        "### Definições:\n",
        "*   Período: entre 01/03/2020 até ??\n",
        "*   Idioma: português\n",
        "* Somente tweets SEM replies\n",
        "* Apenas tweets COM links\n"
      ]
    },
    {
      "cell_type": "markdown",
      "metadata": {
        "id": "-sTtlV_C_WqX"
      },
      "source": [
        "###Como pesquisar?\n",
        "Busca avançada no tt: `\"aqui está uma música para você\" until:2021-08-31 since:2020-03-01 filter:links -filter:replies`"
      ]
    },
    {
      "cell_type": "markdown",
      "metadata": {
        "id": "tBY8wf6h91G_"
      },
      "source": [
        "###Como coletar?\n",
        "Python, usando as bibliotecas `tweepy`, `numpy` e `pandas`"
      ]
    },
    {
      "cell_type": "code",
      "metadata": {
        "id": "bQkdi9K3JBx1"
      },
      "source": [
        "# Importando \n",
        "import tweepy\n",
        "import numpy as np\n",
        "import pandas as pd"
      ],
      "execution_count": null,
      "outputs": []
    },
    {
      "cell_type": "code",
      "metadata": {
        "id": "Z91j6XfBJSlc"
      },
      "source": [
        "# Credenciais\n",
        "api_key = 'cVx5iV3SeNBdsdTW7fRcX6WnZ'\n",
        "secret_key = 'wZccWT66F5bfzkjsLGvswj5xH61IfkwMLyqcVn9EoHoejIwEbz'\n",
        "access_token = '117158045-eTXgsrzdJMPx599zsP0XrfJtzOIydrw0i0Ha7Wj4'\n",
        "secret_token = 'rbxAey0OmKtwgfaLSeJvhzYVjqUCMMlSJuUwyHeFOfIB5'"
      ],
      "execution_count": null,
      "outputs": []
    },
    {
      "cell_type": "code",
      "metadata": {
        "id": "6SZRsUpEwUIU"
      },
      "source": [
        "# Autorização\n",
        "def twitter_setup():\n",
        "    \"\"\"\n",
        "    Utility function to setup the Twitter's API\n",
        "    with our access keys provided.\n",
        "    \"\"\"\n",
        "    # Authentication and access using keys:\n",
        "    auth = tweepy.OAuthHandler(api_key, secret_key)\n",
        "    auth.set_access_token(access_token, secret_token)\n",
        "\n",
        "    # Return API with authentication:\n",
        "    api = tweepy.API(auth)\n",
        "    return api"
      ],
      "execution_count": null,
      "outputs": []
    },
    {
      "cell_type": "code",
      "metadata": {
        "id": "_SUQhWyayxX2"
      },
      "source": [
        "query = \"aqui está uma música para você\"\n",
        "\n",
        "##### tentei usar os parâmetros da busca avançada, mas deu erro:\n",
        "##### query = \"aqui está uma música para você until:2021-08-31 since:2020-03-01 filter:links -filter:replies\""
      ],
      "execution_count": null,
      "outputs": []
    },
    {
      "cell_type": "code",
      "metadata": {
        "id": "wVtEbaGEsW8L"
      },
      "source": [
        "# Definindo o resultado\n",
        "pesquisa = api.search(q=query,lang='pt',tweet_mode=\"extended\",count=1000) #### o que seria o count? o código que eu vi colocava 50 e retornava 50 tweets, então pensei em aumentar para mil, mas tá me retornando 100 tweets :/\n",
        "resultado = []\n",
        "for twitters in pesquisa:\n",
        "  resultado.append(twitters.created_at)\n",
        "  resultado.append(twitters.full_text)\n",
        "\n",
        "resultado"
      ],
      "execution_count": null,
      "outputs": []
    },
    {
      "cell_type": "code",
      "metadata": {
        "id": "pqse2g1_0ngA"
      },
      "source": [
        "matriz_np = np.array(resultado)\n",
        "matriz_ajustada = np.reshape(matriz_np, (100,2))"
      ],
      "execution_count": null,
      "outputs": []
    },
    {
      "cell_type": "code",
      "metadata": {
        "id": "kwuJKv_k03dk"
      },
      "source": [
        "df = pd.DataFrame()\n",
        "colunas = [\n",
        "    'Data_publicacao',\n",
        "    'tweet'\n",
        "]\n",
        "\n",
        "df = pd.DataFrame(matriz_ajustada,columns=colunas)"
      ],
      "execution_count": null,
      "outputs": []
    },
    {
      "cell_type": "code",
      "metadata": {
        "id": "Wn91eP9T1CGG"
      },
      "source": [
        "df"
      ],
      "execution_count": null,
      "outputs": []
    },
    {
      "cell_type": "markdown",
      "metadata": {
        "id": "6RAInAc0E17a"
      },
      "source": [
        "##**Passo 4: Entrevistas e visualização**\n"
      ]
    }
  ]
}