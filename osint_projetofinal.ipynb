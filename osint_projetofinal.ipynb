{
  "nbformat": 4,
  "nbformat_minor": 0,
  "metadata": {
    "colab": {
      "name": "osint_projetofinal.ipynb",
      "provenance": [],
      "collapsed_sections": [],
      "include_colab_link": true
    },
    "kernelspec": {
      "name": "python3",
      "display_name": "Python 3"
    }
  },
  "cells": [
    {
      "cell_type": "markdown",
      "metadata": {
        "id": "view-in-github",
        "colab_type": "text"
      },
      "source": [
        "<a href=\"https://colab.research.google.com/github/biamuniz/trabalhofinal_osint/blob/main/osint_projetofinal.ipynb\" target=\"_parent\"><img src=\"https://colab.research.google.com/assets/colab-badge.svg\" alt=\"Open In Colab\"/></a>"
      ]
    },
    {
      "cell_type": "markdown",
      "metadata": {
        "id": "lzbMcNiP4nkK"
      },
      "source": [
        "# **Aqui está uma música para você**\n",
        "Projeto final apresentado para a disciplina de Open Source Intelligence do Master em Jornalismo de Dados, Automação e Data Storytelling do Insper\n",
        "\n",
        "**Grupo:** Bianca Muniz, Meyrele Torres, Ricardo Grinbaum, Tiago Aguiar\n",
        "\n",
        "**Descrição do projeto**: Nosso projeto final pretende mostrar quais músicas foram as mais compartilhadas durante a pandemia. Para isso, serão analisadas as características das músicas mais \"tuitadas\", cruzando essas informações com dados da evolução da pandemia no país.\n",
        "\n",
        "\n",
        "\n"
      ]
    },
    {
      "cell_type": "markdown",
      "metadata": {
        "id": "9Dfvw3V5BmIf"
      },
      "source": [
        "## **Antes de começar:**\n",
        "\n",
        "**1.Definir perguntas:**\n",
        "*   Quais músicas mais compartilhadas no início da pandemia? E no primeiro pico, em 2020? E com o início da vacinação? \n",
        "*   Será que \"Corona - The Rhythm of the Night\" ou \"MC Fioti - Bum Bum Tam Tam\" estouraram em algum momento?\n",
        "* As músicas compartilhadas são mais ruidosas, tristes? Ou com mais energia? O que isso pode significar? *ENTREVISTAR ESPECIALISTAS?*\n",
        "\n",
        "**2.Dados utilizados**\n",
        "*   Lista de músicas obtidas a partir da coleta de tweets com a string \"*aqui está uma música para você*\" (frase publicada no twitter ao compartilhar uma música pelo spotify), em um determinado período, contendo links das músicas do spotify\n",
        "*   Features das músicas do Spotify: a API do Spotify disponibiliza informações bem interessantes sobre características das músicas, como danceability, joy, loudness (isso é explicado no [link](https://developer.spotify.com/discover/#audio-features-analysis) )\n",
        "* Dados de covid-19 (casos, óbitos, vacinação)"
      ]
    },
    {
      "cell_type": "markdown",
      "metadata": {
        "id": "No9Q28IN8Vn0"
      },
      "source": [
        "## **Passo 1: Twitter**\n",
        "### Definições:\n",
        "*   Período: entre 01/03/2020 até ??\n",
        "*   Idioma: português\n",
        "* Somente tweets SEM replies\n",
        "* Apenas tweets COM links\n"
      ]
    },
    {
      "cell_type": "markdown",
      "metadata": {
        "id": "-sTtlV_C_WqX"
      },
      "source": [
        "###Como pesquisar?\n",
        "Busca avançada no tt: `\"aqui está uma música para você\" until:2021-09-13 since:2020-03-01 filter:links -filter:replies`"
      ]
    },
    {
      "cell_type": "markdown",
      "metadata": {
        "id": "tBY8wf6h91G_"
      },
      "source": [
        "###Como coletar?\n",
        "Python, usando as bibliotecas `tweepy`, `numpy` e `pandas`"
      ]
    },
    {
      "cell_type": "code",
      "metadata": {
        "id": "bQkdi9K3JBx1"
      },
      "source": [
        "# Importando \n",
        "import tweepy as tw\n",
        "import numpy as np\n",
        "import pandas as pd"
      ],
      "execution_count": 31,
      "outputs": []
    },
    {
      "cell_type": "code",
      "metadata": {
        "id": "Z91j6XfBJSlc"
      },
      "source": [
        "# Credenciais\n",
        "api_key = 'xxx'\n",
        "secret_key = 'xxx'\n",
        "access_token = 'xxx'\n",
        "secret_token = 'xxx'"
      ],
      "execution_count": 46,
      "outputs": []
    },
    {
      "cell_type": "code",
      "metadata": {
        "id": "6SZRsUpEwUIU"
      },
      "source": [
        "# Autorização\n",
        "def twitter_setup():\n",
        "    \"\"\"\n",
        "    Utility function to setup the Twitter's API\n",
        "    with our access keys provided.\n",
        "    \"\"\"\n",
        "    # Authentication and access using keys:\n",
        "    auth = tweepy.OAuthHandler(api_key, secret_key)\n",
        "    auth.set_access_token(access_token, secret_token)\n",
        "\n",
        "    # Return API with authentication:\n",
        "    api = tweepy.API(auth)\n",
        "    return api"
      ],
      "execution_count": 47,
      "outputs": []
    },
    {
      "cell_type": "code",
      "metadata": {
        "id": "H6pPNNdVmonQ"
      },
      "source": [
        "# Definindo a consulta\n",
        "query = \"aqui está uma música para você until:2021-09-13 since:2020-03-01 filter:links -filter:replies -filter:retweets\""
      ],
      "execution_count": 67,
      "outputs": []
    },
    {
      "cell_type": "code",
      "metadata": {
        "id": "wVtEbaGEsW8L"
      },
      "source": [
        "# Definindo o resultado\n",
        "pesquisa = api.search(q=query,lang='pt',tweet_mode=\"extended\",count=1000) #### o que seria o count? o código que eu vi colocava 50 e retornava 50 tweets, então pensei em aumentar para mil, mas tá me retornando 100 tweets :/\n",
        "resultado = []\n",
        "for twitters in pesquisa:\n",
        "  resultado.append(twitters.created_at)\n",
        "  resultado.append(twitters.full_text)\n",
        "\n",
        "resultado"
      ],
      "execution_count": 75,
      "outputs": []
    },
    {
      "cell_type": "code",
      "metadata": {
        "id": "7ZYuaAbZwJgk"
      },
      "source": [
        "#Extraindo os tweets\n",
        "extractor = twitter_setup()\n",
        "tweets = extractor.search(q=query,lang='pt',tweet_mode=\"extended\",count=1000)\n",
        "\n",
        "# Para cada tweet, mostrar o username, o tweet e a data\n",
        "for tweet in tweets:\n",
        "  print(tweet.author.screen_name, tweet.full_text, tweet.created_at)"
      ],
      "execution_count": null,
      "outputs": []
    },
    {
      "cell_type": "code",
      "metadata": {
        "id": "7s9h8YtM1oxr"
      },
      "source": [
        "# Transformando os tweets em um dataframe\n",
        "data = pd.DataFrame(data=[tweet.full_text for tweet in tweets], columns=['Tweets'])\n",
        "\n",
        "# Acrescentando mais informações no dataframe\n",
        "data['ID']   = np.array([tweet.id for tweet in tweets])\n",
        "data['Date'] = np.array([tweet.created_at for tweet in tweets])\n",
        "data['Source'] = np.array([tweet.source for tweet in tweets])\n",
        "data['Likes']  = np.array([tweet.favorite_count for tweet in tweets])\n",
        "data['RTs']    = np.array([tweet.retweet_count for tweet in tweets])\n",
        "\n",
        "data"
      ],
      "execution_count": 93,
      "outputs": []
    },
    {
      "cell_type": "markdown",
      "metadata": {
        "id": "F1B7KzJ3_nVI"
      },
      "source": [
        "##**Passo 2: Spotify**\n",
        "\n",
        "###Como coletar?\n",
        "Python (biblioteca `Spotipy`) ou R (pacote `spotifyr`)"
      ]
    },
    {
      "cell_type": "code",
      "metadata": {
        "id": "3aaAWcyTAcDE"
      },
      "source": [
        ""
      ],
      "execution_count": null,
      "outputs": []
    },
    {
      "cell_type": "markdown",
      "metadata": {
        "id": "v69jammtAcm_"
      },
      "source": [
        "##**Passo 3: Dados covid-19**\n",
        "\n",
        "###Quais dados?\n",
        "*   Novos casos por dia\n",
        "*   Novos óbitos por dia\n",
        "* Doses de vacina aplicadas por dia\n",
        "\n",
        "\n",
        "###Onde coletar?\n",
        "* Base dos Dados\n",
        "* Brasil.io\n",
        "* Ministério da Saúde\n",
        "\n"
      ]
    },
    {
      "cell_type": "code",
      "metadata": {
        "id": "7kmiMC31E1aG"
      },
      "source": [
        ""
      ],
      "execution_count": null,
      "outputs": []
    },
    {
      "cell_type": "markdown",
      "metadata": {
        "id": "6RAInAc0E17a"
      },
      "source": [
        "##**Passo 4: Entrevistas e visualização**\n"
      ]
    }
  ]
}